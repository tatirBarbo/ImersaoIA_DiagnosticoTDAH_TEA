{
  "nbformat": 4,
  "nbformat_minor": 0,
  "metadata": {
    "colab": {
      "provenance": [],
      "include_colab_link": true
    },
    "kernelspec": {
      "name": "python3",
      "display_name": "Python 3"
    },
    "language_info": {
      "name": "python"
    }
  },
  "cells": [
    {
      "cell_type": "markdown",
      "metadata": {
        "id": "view-in-github",
        "colab_type": "text"
      },
      "source": [
        "<a href=\"https://colab.research.google.com/github/tatirBarbo/ImersaoIA_DiagnosticoTDAH_TEA/blob/main/Projeto_Diagnostico_Preliminar_TDHA_TEA_Para_Pais.ipynb\" target=\"_parent\"><img src=\"https://colab.research.google.com/assets/colab-badge.svg\" alt=\"Open In Colab\"/></a>"
      ]
    },
    {
      "cell_type": "code",
      "source": [
        "%pip -q install google-genai"
      ],
      "metadata": {
        "id": "UCCbECexLk_h"
      },
      "execution_count": 1,
      "outputs": []
    },
    {
      "cell_type": "code",
      "source": [
        "# Configura a API Key do Google Gemini\n",
        "\n",
        "import os\n",
        "from google.colab import userdata\n",
        "\n",
        "os.environ[\"GOOGLE_API_KEY\"] = userdata.get('GOOGLE_API_KEY')"
      ],
      "metadata": {
        "id": "NfCqHo1tLk8P"
      },
      "execution_count": 2,
      "outputs": []
    },
    {
      "cell_type": "code",
      "source": [
        "# Configura o cliente da SDK do Gemini\n",
        "\n",
        "from google import genai\n",
        "\n",
        "client = genai.Client()\n",
        "\n",
        "MODEL_ID = \"gemini-2.0-flash\""
      ],
      "metadata": {
        "id": "bV4w0H5TLk5g"
      },
      "execution_count": 3,
      "outputs": []
    },
    {
      "cell_type": "code",
      "source": [
        "# Instalar Framework ADK de agentes do Google ################################################\n",
        "!pip install -q google-adk"
      ],
      "metadata": {
        "id": "hvZ3UnPI4jhJ",
        "colab": {
          "base_uri": "https://localhost:8080/"
        },
        "outputId": "5479da73-4272-4450-dae4-701bc60e4505"
      },
      "execution_count": 4,
      "outputs": [
        {
          "output_type": "stream",
          "name": "stdout",
          "text": [
            "\u001b[?25l   \u001b[90m━━━━━━━━━━━━━━━━━━━━━━━━━━━━━━━━━━━━━━━━\u001b[0m \u001b[32m0.0/1.2 MB\u001b[0m \u001b[31m?\u001b[0m eta \u001b[36m-:--:--\u001b[0m\r\u001b[2K   \u001b[91m━━━━━━━━━━━━━━━━━━━━━━━━━━━━━━━━━━━━━━━\u001b[0m\u001b[91m╸\u001b[0m \u001b[32m1.2/1.2 MB\u001b[0m \u001b[31m38.5 MB/s\u001b[0m eta \u001b[36m0:00:01\u001b[0m\r\u001b[2K   \u001b[90m━━━━━━━━━━━━━━━━━━━━━━━━━━━━━━━━━━━━━━━━\u001b[0m \u001b[32m1.2/1.2 MB\u001b[0m \u001b[31m23.4 MB/s\u001b[0m eta \u001b[36m0:00:00\u001b[0m\n",
            "\u001b[2K   \u001b[90m━━━━━━━━━━━━━━━━━━━━━━━━━━━━━━━━━━━━━━━━\u001b[0m \u001b[32m232.1/232.1 kB\u001b[0m \u001b[31m14.6 MB/s\u001b[0m eta \u001b[36m0:00:00\u001b[0m\n",
            "\u001b[2K   \u001b[90m━━━━━━━━━━━━━━━━━━━━━━━━━━━━━━━━━━━━━━━━\u001b[0m \u001b[32m95.2/95.2 kB\u001b[0m \u001b[31m4.8 MB/s\u001b[0m eta \u001b[36m0:00:00\u001b[0m\n",
            "\u001b[2K   \u001b[90m━━━━━━━━━━━━━━━━━━━━━━━━━━━━━━━━━━━━━━━━\u001b[0m \u001b[32m217.1/217.1 kB\u001b[0m \u001b[31m14.1 MB/s\u001b[0m eta \u001b[36m0:00:00\u001b[0m\n",
            "\u001b[2K   \u001b[90m━━━━━━━━━━━━━━━━━━━━━━━━━━━━━━━━━━━━━━━━\u001b[0m \u001b[32m334.1/334.1 kB\u001b[0m \u001b[31m21.1 MB/s\u001b[0m eta \u001b[36m0:00:00\u001b[0m\n",
            "\u001b[2K   \u001b[90m━━━━━━━━━━━━━━━━━━━━━━━━━━━━━━━━━━━━━━━━\u001b[0m \u001b[32m125.1/125.1 kB\u001b[0m \u001b[31m8.3 MB/s\u001b[0m eta \u001b[36m0:00:00\u001b[0m\n",
            "\u001b[2K   \u001b[90m━━━━━━━━━━━━━━━━━━━━━━━━━━━━━━━━━━━━━━━━\u001b[0m \u001b[32m65.8/65.8 kB\u001b[0m \u001b[31m4.5 MB/s\u001b[0m eta \u001b[36m0:00:00\u001b[0m\n",
            "\u001b[2K   \u001b[90m━━━━━━━━━━━━━━━━━━━━━━━━━━━━━━━━━━━━━━━━\u001b[0m \u001b[32m119.0/119.0 kB\u001b[0m \u001b[31m7.3 MB/s\u001b[0m eta \u001b[36m0:00:00\u001b[0m\n",
            "\u001b[2K   \u001b[90m━━━━━━━━━━━━━━━━━━━━━━━━━━━━━━━━━━━━━━━━\u001b[0m \u001b[32m194.9/194.9 kB\u001b[0m \u001b[31m12.3 MB/s\u001b[0m eta \u001b[36m0:00:00\u001b[0m\n",
            "\u001b[2K   \u001b[90m━━━━━━━━━━━━━━━━━━━━━━━━━━━━━━━━━━━━━━━━\u001b[0m \u001b[32m62.5/62.5 kB\u001b[0m \u001b[31m4.1 MB/s\u001b[0m eta \u001b[36m0:00:00\u001b[0m\n",
            "\u001b[2K   \u001b[90m━━━━━━━━━━━━━━━━━━━━━━━━━━━━━━━━━━━━━━━━\u001b[0m \u001b[32m103.3/103.3 kB\u001b[0m \u001b[31m7.6 MB/s\u001b[0m eta \u001b[36m0:00:00\u001b[0m\n",
            "\u001b[2K   \u001b[90m━━━━━━━━━━━━━━━━━━━━━━━━━━━━━━━━━━━━━━━━\u001b[0m \u001b[32m44.4/44.4 kB\u001b[0m \u001b[31m2.3 MB/s\u001b[0m eta \u001b[36m0:00:00\u001b[0m\n",
            "\u001b[2K   \u001b[90m━━━━━━━━━━━━━━━━━━━━━━━━━━━━━━━━━━━━━━━━\u001b[0m \u001b[32m72.0/72.0 kB\u001b[0m \u001b[31m4.7 MB/s\u001b[0m eta \u001b[36m0:00:00\u001b[0m\n",
            "\u001b[?25h"
          ]
        }
      ]
    },
    {
      "cell_type": "code",
      "execution_count": 5,
      "metadata": {
        "id": "aePV2bdfDeoW"
      },
      "outputs": [],
      "source": [
        "from google.adk.agents import Agent\n",
        "from google.adk.runners import Runner\n",
        "from google.adk.sessions import InMemorySessionService\n",
        "from google.adk.tools import google_search\n",
        "from google.genai import types  # Para criar conteúdos (Content e Part)\n",
        "from datetime import date\n",
        "import textwrap # Para formatar melhor a saída de texto\n",
        "from IPython.display import display, Markdown # Para exibir texto formatado no Colab\n",
        "import requests # Para fazer requisições HTTP\n",
        "import warnings\n",
        "\n",
        "warnings.filterwarnings(\"ignore\")"
      ]
    },
    {
      "cell_type": "code",
      "source": [
        "# Função auxiliar que envia uma mensagem para um agente via Runner e retorna a resposta final\n",
        "def call_agent(agent: Agent, message_text: str) -> str:\n",
        "    # Cria um serviço de sessão em memória\n",
        "    session_service = InMemorySessionService()\n",
        "    # Cria uma nova sessão (você pode personalizar os IDs conforme necessário)\n",
        "    session = session_service.create_session(app_name=agent.name, user_id=\"user1\", session_id=\"session1\")\n",
        "    # Cria um Runner para o agente\n",
        "    runner = Runner(agent=agent, app_name=agent.name, session_service=session_service)\n",
        "    # Cria o conteúdo da mensagem de entrada\n",
        "    content = types.Content(role=\"user\", parts=[types.Part(text=message_text)])\n",
        "\n",
        "    final_response = \"\"\n",
        "    # Itera assincronamente pelos eventos retornados durante a execução do agente\n",
        "    for event in runner.run(user_id=\"user1\", session_id=\"session1\", new_message=content):\n",
        "        if event.is_final_response():\n",
        "          for part in event.content.parts:\n",
        "            if part.text is not None:\n",
        "              final_response += part.text\n",
        "              final_response += \"\\n\"\n",
        "    return final_response"
      ],
      "metadata": {
        "id": "_xP4lWhsS5ko"
      },
      "execution_count": 6,
      "outputs": []
    },
    {
      "cell_type": "code",
      "source": [
        "# Função auxiliar para exibir texto formatado em Markdown no Colab\n",
        "def to_markdown(text):\n",
        "  text = text.replace('•', '  *')\n",
        "  return Markdown(textwrap.indent(text, '> ', predicate=lambda _: True))"
      ],
      "metadata": {
        "id": "8dosiodaxfFR"
      },
      "execution_count": 7,
      "outputs": []
    },
    {
      "cell_type": "code",
      "source": [
        "##################################################\n",
        "# --- Agente 1: Coletor de Dados atualizados --- #\n",
        "##################################################\n",
        "def agente_coletor(transtorno, idade, data_de_hoje):\n",
        "\n",
        "  coletor = Agent(\n",
        "      name = \"agente_coletor\",\n",
        "      model = \"gemini-2.0-flash\",\n",
        "      description = \"Agente que busca informações refetente aos comportamentos de crianças com TDAH ou TEA no Google\",\n",
        "      tools = [google_search],\n",
        "      instruction = \"\"\"\n",
        "      Você é um assitente de pesquisa, especialista em TDAH (Transtorno de Déficit de Atenção e Hiperatividade) e TEA (Transtorno do Espectro Autista). A sua tarefa é usar a ferramenta de busca do google (google_search)\n",
        "      para recuperar as informações mais recentes e relevantes sobre crianças diagnosticadas com o tipo de transtorno abaixo de acordo com a idade informada.\n",
        "      Foque no máximo nas 10 informações mais relevantes, com base nas características mais comuns de estarem presentes nas crianças que são diagnosticas com o transtorno informado e que são mais faceis de serem percebidas\n",
        "      pelos pais e pessoas que convivem com as crianças diagnosticas, de acordo com a idade informada.\n",
        "      Se uma característica for mais rara de estar presente, mas ainda sim ser muito relevante para o diagnóstico, pois é uma caracterísca muito citada pelos especialistas, retornar a característica identificando como\n",
        "      uma característica forte para apoiar no o diagnóstico.\n",
        "      Essas informações relevantes, comuns de estarem presentes e fáceis de serem identificadas, devem ser atuais, de no máximo um ano antes da data de hoje.\n",
        "      \"\"\"\n",
        "  )\n",
        "\n",
        "  entrada_do_agente_coletor = f\"Transtorno (1 = TDAH, 2 = TEA): {transtorno}\\n Idade: {idade}\\nData de hoje: {data_de_hoje}\"\n",
        "\n",
        "  informacoes_coletadas = call_agent(coletor, entrada_do_agente_coletor)\n",
        "  return informacoes_coletadas"
      ],
      "metadata": {
        "id": "o8bqIfi_DyH8"
      },
      "execution_count": 8,
      "outputs": []
    },
    {
      "cell_type": "code",
      "source": [
        "################################################\n",
        "# --- Agente 2: Agente Questionador  --- #\n",
        "################################################\n",
        "def agente_questionador(transtorno, idade, informacoes_coletadas):\n",
        "    questionador = Agent(\n",
        "        name=\"agente_questionador\",\n",
        "        model=\"gemini-2.0-flash\",\n",
        "        # Instruções do Agente Questionador #################################################\n",
        "        instruction=\"\"\"\n",
        "        Você é um gerador de perguntas, especialista em criar perguntas classificando elas por relevância. Com base na lista de informações mais recentes e relevantes coletadas, você deve:\n",
        "        usar a ferramenta de busca do Google (google_search) para formular um questionário com no máximo 30 perguntas sobre características e comportamentos para ajudar a diagnosticar se uma criança tem grandes ou pequenas\n",
        "        chances, de ter o transtorno informado, de acordo com a idade dela.\n",
        "        Você deve classificar a relevância das perguntas para o diagnóstico, classificando de 1 a 5, onde 1 é a menos relevante e a 5 é a mais relevante, para auxiliar posteriomente no diagnostico.\n",
        "        Você também pode usar o (google_search) para encontrar mais informações sobre as características e relevância para realizar a classificação.\n",
        "        Como retorno de todo o levantamento, você deverá escolher e retornar apenas as 10 perguntas, com mais relevância entre as perguntas geradas inicialmente, para serem respondidas.\n",
        "        Você deve criar as 10 perguntas utilizando uma linguagem simples e direta, tendo como princípio que a pessoa que irá responder é leiga no assunto.\n",
        "        Esse agente não deve retornar mais perguntas ou as informações que serviram de insumo para gerar as 10 questões.\n",
        "        \"\"\",\n",
        "        description=\"Agente que gera e classifica perguntas\",\n",
        "        tools=[google_search]\n",
        "    )\n",
        "\n",
        "    entrada_do_agente_questionador = f\"Transtorno (1 = TDAH, 2 = TEA):{transtorno}\\n Idade: {idade}\\n Informacoes coletadas: {informacoes_coletadas}\"\n",
        "    # Executa o agente\n",
        "    questionario = call_agent(questionador, entrada_do_agente_questionador)\n",
        "    return questionario"
      ],
      "metadata": {
        "id": "t5M0nwgvedxx"
      },
      "execution_count": 14,
      "outputs": []
    },
    {
      "cell_type": "code",
      "source": [
        "######################################\n",
        "# --- Agente 3: Avaliador --- #\n",
        "######################################\n",
        "def agente_avaliador(transtorno, idade, questionario, respostas_do_questionario):\n",
        "\n",
        "    avaliador = Agent(\n",
        "        name=\"agente_avaliador\",\n",
        "        model=\"gemini-2.0-flash\",\n",
        "        instruction=\"\"\"\n",
        "            Você é um avaliador especialista em TDAH (Transtorno de Déficit de Atenção e Hiperatividade) e TEA (Transtorno do Espectro Autista), que utiliza linguagem simples e fácil para pessoas leigas nos assuntos TDAH e TEA.\n",
        "            Utilize as informações coletadas, as respostas fornecidas para o questionário e análise a resposta dada para cada pergunta, levando em consideração a relevância da pergunta para o diagnóstico.\n",
        "            As opções de respostas para cada pergunta são 1 - Apresenta o comportamento/característica, 2 - NÃO apresenta o comportamento/característica, 3 - Apresenta as vezes ou 4 - Não consigo responder.\n",
        "            Com base nas resposta e relevância da pergunta, avalie a probabilidade da criança ter algum grau do transtorno analisado. Forneça um resumo da análise feita e a conclusão da análise.\n",
        "            Utilize um texto curto, resumido e simples, porém explicativo, como se estivesse explicando para uma pessoa leiga no assunto.\n",
        "            Forneça também a probabilidade de acerto do diagnóstico.\n",
        "            Forneça no final fontes de referências especializadas no assunto.\n",
        "            \"\"\",\n",
        "        description=\"Agente avaliador das informações fornecidas para retornar um possível diagnóstico.\"\n",
        "    )\n",
        "    entrada_do_agente_avaliador = f\"Transtorno (1 = TDAH, 2 = TEA):{transtorno}\\n Idade: {idade}\\n Perguntas: {questionario}\\n Respostas: {respostas_do_questionario}\"\n",
        "    # Executa o agente\n",
        "    diagnostico = call_agent(avaliador, entrada_do_agente_avaliador)\n",
        "    return diagnostico\n"
      ],
      "metadata": {
        "id": "uOqlg2TRLVh1"
      },
      "execution_count": 18,
      "outputs": []
    },
    {
      "cell_type": "code",
      "source": [
        "hoje = date.today().strftime(\"%d/%m/%Y\")\n",
        "\n",
        "print(\"Iniciando o Sistema de Apoio Inicial ao Diagnóstico de TDAH e TEA para crianças de 3 a 10 anos. \\n\")\n",
        "\n",
        "# --- Obter o Tipo de Transtorno  ---\n",
        "tipo_transtorno = input(\"Por favor, informe o tipo de transtorno, sendo 1 para TDAH, 2 para TEA e 3 para Sair: \")\n",
        "while not tipo_transtorno:\n",
        "  print(\"Você esqueceu de digitar o tipo de transtorno!\")\n",
        "  tipo_transtorno = input(\"Por favor, informe o tipo de transtorno, sendo 1 para TDAH, 2 para TEA e 3 para Sair: \")\n",
        "\n",
        "if tipo_transtorno == \"1\":\n",
        "   tipo = \"Transtorno de Déficit de Atenção e Hiperatividade - TDAH\"\n",
        "elif tipo_transtorno == \"2\":\n",
        "   tipo = \"Transtorno do Espectro Autista - TEA\"\n",
        "elif tipo_transtorno == \"3\":\n",
        "   tipo = \"Sair\"\n",
        "else:\n",
        "  while tipo_transtorno not in [\"1\", \"2\", \"3\"] or not tipo_transtorno:\n",
        "     print(\"O valor informado não é válido!\")\n",
        "     print(\"\\n\")\n",
        "     tipo_transtorno = input(\"Informe um tipo de transtorno válido, sendo 1 = TDAH, 2 = TEA e 3 = Sair: \")\n",
        "     tipo = tipo_transtorno\n",
        "\n",
        "if tipo ==\"Sair\":\n",
        "  print(\"\\n Obrigada por utilizar o sistema de Apoio Inicial ao Diagnóstico de TDAH e TEA para crianças de 3 a 10 anos.\")\n",
        "  print(\"\\n Fim do programa!\")\n",
        "else:\n",
        "  # --- Obter o Idade da criança  ---\n",
        "  idade_crianca = input(\"Por favor, informe a idade da criança: \")\n",
        "\n",
        "  while not idade_crianca:\n",
        "    print(\"Você esqueceu de digitar a idade da criança!\")\n",
        "    idade_crianca = input(\"Por favor, informe a idade da criança: \")\n",
        "\n",
        "  print(\"\\n--- coletando informações ---\\n\")\n",
        "  informacoes_coletadas = agente_coletor(tipo, idade_crianca, hoje)\n",
        "\n",
        "  questionario = agente_questionador(tipo, idade_crianca, informacoes_coletadas)\n",
        "  print(\"\\n--- Questionário ---\\n\")\n",
        "  display(to_markdown(questionario))\n",
        "\n",
        "  print(\"\\n Responda as perguntas acima na ordem. Valores: 1 - Apresenta o comportamento/característica, 2 - NÃO apresenta o comportamento/característica, 3 - Apresenta as vezes ou 4 - Não consigo responder. \")\n",
        "  resposta_1 = input(\"Pergunta 1: \")\n",
        "  while not resposta_1 or resposta_1 not in [\"1\", \"2\", \"3\", \"4\"]:\n",
        "     resposta_1 = input(\"Valor inválido. Responda novamente. \\n Pergunta 1: \")\n",
        "\n",
        "  resposta_2 = input(\"Pergunta 2: \")\n",
        "  while not resposta_2 or resposta_2 not in [\"1\", \"2\", \"3\", \"4\"]:\n",
        "     resposta_2 = input(\"Valor inválido. Responda novamente. \\n Pergunta 2: \")\n",
        "\n",
        "  resposta_3 = input(\"Pergunta 3: \")\n",
        "  while not resposta_3 or resposta_3 not in [\"1\", \"2\", \"3\", \"4\"]:\n",
        "     resposta_3 = input(\"Valor inválido. Responda novamente. \\n Pergunta 3: \")\n",
        "\n",
        "  resposta_4 = input(\"Pergunta 4: \")\n",
        "  while not resposta_4 or resposta_4 not in [\"1\", \"2\", \"3\", \"4\"]:\n",
        "     resposta_4 = input(\"Valor inválido. Responda novamente. \\n Pergunta 4: \")\n",
        "\n",
        "  resposta_5 = input(\"Pergunta 5: \")\n",
        "  while not resposta_5 or resposta_5 not in [\"1\", \"2\", \"3\", \"4\"]:\n",
        "     resposta_5 = input(\"Valor inválido. Responda novamente. \\n Pergunta 5: \")\n",
        "\n",
        "  resposta_6 = input(\"Pergunta 6: \")\n",
        "  while not resposta_6 or resposta_6 not in [\"1\", \"2\", \"3\", \"4\"]:\n",
        "     resposta_6 = input(\"Valor inválido. Responda novamente. \\n Pergunta 6: \")\n",
        "\n",
        "  resposta_7 = input(\"Pergunta 7: \")\n",
        "  while not resposta_7 or resposta_7 not in [\"1\", \"2\", \"3\", \"4\"]:\n",
        "     resposta_7 = input(\"Valor inválido. Responda novamente. \\n Pergunta 7: \")\n",
        "\n",
        "  resposta_8 = input(\"Pergunta 8: \")\n",
        "  while not resposta_8 or resposta_8 not in [\"1\", \"2\", \"3\", \"4\"]:\n",
        "     resposta_8 = input(\"Valor inválido. Responda novamente. \\n Pergunta 8: \")\n",
        "\n",
        "  resposta_9 = input(\"Pergunta 9: \")\n",
        "  while not resposta_9 or resposta_9 not in [\"1\", \"2\", \"3\", \"4\"]:\n",
        "     resposta_9 = input(\"Valor inválido. Responda novamente. \\n Pergunta 9: \")\n",
        "\n",
        "  resposta_10 = input(\"Pergunta 10: \")\n",
        "  while not resposta_10 or resposta_10 not in [\"1\", \"2\", \"3\", \"4\"]:\n",
        "     resposta_10 = input(\"Valor inválido. Responda novamente. \\n Pergunta 10: \")\n",
        "\n",
        "  print(\"\\n--- Análise das informações ---\\n\")\n",
        "  avaliacao = agente_avaliador(tipo, idade_crianca, questionario, [resposta_1, resposta_2, resposta_3, resposta_4, resposta_5, resposta_6, resposta_7, resposta_8, resposta_9, resposta_10])\n",
        "  display(to_markdown(avaliacao))\n",
        "  print(\"-------------------------------------------------------------------\")\n",
        "\n",
        "  print(\"\\n Obrigada por utilizar o sistema de Apoio Inicial ao Diagnóstico de TDAH e TEA para crianças de 3 a 10 anos.\")\n",
        "  print(\"\\n Fim do programa!\")"
      ],
      "metadata": {
        "id": "630ummxz4myx",
        "colab": {
          "base_uri": "https://localhost:8080/",
          "height": 1000
        },
        "outputId": "d9e1444e-c0ee-4334-de91-e65482edfd55"
      },
      "execution_count": 17,
      "outputs": [
        {
          "output_type": "stream",
          "name": "stdout",
          "text": [
            "Iniciando o Sistema de Apoio Inicial ao Diagnóstico de TDAH e TEA para crianças de 3 a 10 anos. \n",
            "\n",
            "Por favor, informe o tipo de transtorno, sendo 1 para TDAH, 2 para TEA e 3 para Sair: 2\n",
            "Por favor, informe a idade da criança: 5\n",
            "\n",
            "--- coletando informações ---\n",
            "\n",
            "\n",
            "--- Questionário ---\n",
            "\n"
          ]
        },
        {
          "output_type": "display_data",
          "data": {
            "text/plain": [
              "<IPython.core.display.Markdown object>"
            ],
            "text/markdown": "> Com base nas informações fornecidas sobre o Transtorno do Espectro Autista (TEA) em crianças de 5 anos, aqui estão 10 perguntas para ajudar a avaliar a probabilidade de uma criança ter TEA, classificadas por relevância (1 a 5, sendo 5 a mais relevante):\n> \n> 1.  Seu filho(a) demonstra dificuldade em iniciar ou manter conversas com outras pessoas? (Relevância: 4)\n> \n> 2.  Seu filho(a) demonstra comportamentos repetitivos, como balançar as mãos ou o corpo, ou repetir frases? (Relevância: 5)\n> \n> 3.  Seu filho(a) fica muito chateado(a) ou ansioso(a) quando há mudanças inesperadas na rotina? (Relevância: 4)\n> \n> 4.  Seu filho(a) prefere brincar sozinho(a) e demonstra pouco interesse em interagir com outras crianças? (Relevância: 4)\n> \n"
          },
          "metadata": {}
        },
        {
          "output_type": "stream",
          "name": "stdout",
          "text": [
            "\n",
            " Responda as perguntas acima na ordem. Valores: 1 - Apresenta o comportamento/característica, 2 - NÃO apresenta o comportamento/característica, 3 - Apresenta as vezes ou 4 - Não consigo responder. \n",
            "Pergunta 1: \n",
            "Valor inválido. Responda novamente. \n",
            " Pergunta 1: 6\n",
            "Valor inválido. Responda novamente. \n",
            " Pergunta 1: 1\n",
            "Pergunta 2: 6\n",
            "Valor inválido. Responda novamente. \n",
            " Pergunta 2: 1\n",
            "Pergunta 3: 1\n",
            "Pergunta 4: 1\n",
            "Pergunta 5: 1\n",
            "Pergunta 6: 1\n",
            "Pergunta 7: 1\n",
            "Pergunta 8: 3\n",
            "Pergunta 9: 3\n",
            "Pergunta 10: 1\n",
            "\n",
            "--- Análise das informações ---\n",
            "\n"
          ]
        },
        {
          "output_type": "display_data",
          "data": {
            "text/plain": [
              "<IPython.core.display.Markdown object>"
            ],
            "text/markdown": "> ## Análise da Probabilidade de TEA em Criança de 5 Anos\n> \n> Com base nas suas respostas, vamos analisar a probabilidade do seu filho(a) apresentar Transtorno do Espectro Autista (TEA). É importante lembrar que este é apenas um olhar inicial e não substitui uma avaliação profissional completa.\n> \n> **Resumo da Análise:**\n> \n> As respostas indicam que seu filho(a) apresenta características associadas ao TEA, como:\n> \n> *   Dificuldade em conversas.\n> *   Comportamentos repetitivos.\n> *   Chateação com mudanças na rotina.\n> *   Preferência por brincar sozinho.\n> \n> A alta incidência de respostas \"Apresenta o comportamento/característica\" sugere uma forte indicação de TEA.\n> \n> **Conclusão:**\n> \n> A probabilidade do seu filho(a) ter algum grau de TEA é consideravelmente alta. Recomenda-se fortemente procurar uma avaliação profissional com neuropediatra ou equipe multidisciplinar especializada em TEA para um diagnóstico preciso e plano de intervenção adequado.\n> \n> **Probabilidade de Acerto do Diagnóstico:**\n> \n> Considerando as informações fornecidas, estimamos uma probabilidade de acerto em torno de 75%. No entanto, essa estimativa pode variar dependendo da complexidade do caso e da qualidade das informações disponíveis.\n> \n> **Fontes de Referência:**\n> \n> *   **Autismo Brasil:** [https://autismobrasil.org.br/](https://autismobrasil.org.br/)\n> *   **Associação Brasileira de Autismo (ABRA):** [https://www.autismo.org.br/](https://www.autismo.org.br/)\n> *   **DSM-5 (Manual Diagnóstico e Estatístico de Transtornos Mentais):** Critérios diagnósticos para TEA.\n> \n> Lembre-se: O diagnóstico precoce e a intervenção adequada são fundamentais para o desenvolvimento e qualidade de vida da criança com TEA.\n"
          },
          "metadata": {}
        },
        {
          "output_type": "stream",
          "name": "stdout",
          "text": [
            "-------------------------------------------------------------------\n",
            "\n",
            " Obrigada por utilizar o sistema de Apoio Inicial ao Diagnóstico de TDAH e TEA para crianças de 3 a 10 anos.\n",
            "\n",
            " Fim do programa!\n"
          ]
        }
      ]
    }
  ]
}